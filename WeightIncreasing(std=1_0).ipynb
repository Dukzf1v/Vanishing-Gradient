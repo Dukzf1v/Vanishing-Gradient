{
  "nbformat": 4,
  "nbformat_minor": 0,
  "metadata": {
    "colab": {
      "provenance": [],
      "gpuType": "T4",
      "authorship_tag": "ABX9TyNax/gze5mrMXnInp+wBiY2",
      "include_colab_link": true
    },
    "kernelspec": {
      "name": "python3",
      "display_name": "Python 3"
    },
    "language_info": {
      "name": "python"
    },
    "accelerator": "GPU"
  },
  "cells": [
    {
      "cell_type": "markdown",
      "metadata": {
        "id": "view-in-github",
        "colab_type": "text"
      },
      "source": [
        "<a href=\"https://colab.research.google.com/github/Dukzf1v/Vanishing-Gradient/blob/main/WeightIncreasing(std%3D1_0).ipynb\" target=\"_parent\"><img src=\"https://colab.research.google.com/assets/colab-badge.svg\" alt=\"Open In Colab\"/></a>"
      ]
    },
    {
      "cell_type": "code",
      "execution_count": 1,
      "metadata": {
        "id": "VXEhP0Yuhez9"
      },
      "outputs": [],
      "source": [
        "import torch\n",
        "import random\n",
        "from torch import nn\n",
        "import torch.optim as optim\n",
        "from torch.utils.data import Dataset, DataLoader, random_split\n",
        "import torchvision\n",
        "from torchvision.datasets import FashionMNIST\n",
        "import matplotlib.pyplot as plt\n",
        "import torchvision.transforms as transforms\n",
        "import numpy as np\n",
        "\n",
        "device = torch.device(\"cuda:0\" if torch.cuda.is_available() else \"cpu\")"
      ]
    },
    {
      "cell_type": "code",
      "source": [
        "def set_seed(seed):\n",
        "  random.seed(seed)\n",
        "  np.random.seed(seed)\n",
        "  torch.manual_seed(seed)\n",
        "  torch.cuda.manual_seed(seed)\n",
        "  torch.cuda.manual_seed_all(seed)\n",
        "  torch.backends.cudnn.deterministic = True\n",
        "  torch.backends.cudnn.benchmark = False\n",
        "\n",
        "SEED = 42\n",
        "set_seed(SEED)"
      ],
      "metadata": {
        "id": "xs5-Q1yIiuQk"
      },
      "execution_count": 2,
      "outputs": []
    },
    {
      "cell_type": "markdown",
      "source": [
        "## Prepare dataset"
      ],
      "metadata": {
        "id": "9ZA1RYGZjpef"
      }
    },
    {
      "cell_type": "code",
      "source": [
        "batch_size = 512\n",
        "\n",
        "train_dataset = FashionMNIST(\n",
        "    './data',\n",
        "    train=True,\n",
        "    download=True,\n",
        "    transform=transforms.ToTensor()\n",
        ")\n",
        "\n",
        "test_dataset = FashionMNIST(\n",
        "    './data',\n",
        "    train=False,\n",
        "    download=True,\n",
        "    transform=transforms.ToTensor()\n",
        ")\n",
        "\n",
        "train_ratio = 0.9\n",
        "train_size = int(len(train_dataset) * train_ratio)\n",
        "val_size = len(train_dataset) - train_size\n",
        "\n",
        "train_subset, val_subset = random_split(train_dataset, [train_size, val_size])\n",
        "\n",
        "train_loader = DataLoader(train_subset, batch_size=batch_size, shuffle=True)\n",
        "val_loader = DataLoader(val_subset, batch_size=batch_size, shuffle=False)\n",
        "test_loader = DataLoader(test_dataset, batch_size=batch_size, shuffle=False)\n",
        "\n",
        "print(f\"Train size: {len(train_subset)}\")\n",
        "print(f\"Validation size: {len(val_subset)}\")\n",
        "print(f\"Test size: {len(test_dataset)}\")"
      ],
      "metadata": {
        "colab": {
          "base_uri": "https://localhost:8080/"
        },
        "id": "5J9e3bB0jwYt",
        "outputId": "a716d301-0544-4fea-bc5d-d325be05fbcd"
      },
      "execution_count": 3,
      "outputs": [
        {
          "output_type": "stream",
          "name": "stdout",
          "text": [
            "Downloading http://fashion-mnist.s3-website.eu-central-1.amazonaws.com/train-images-idx3-ubyte.gz\n",
            "Downloading http://fashion-mnist.s3-website.eu-central-1.amazonaws.com/train-images-idx3-ubyte.gz to ./data/FashionMNIST/raw/train-images-idx3-ubyte.gz\n"
          ]
        },
        {
          "output_type": "stream",
          "name": "stderr",
          "text": [
            "100%|██████████| 26.4M/26.4M [00:02<00:00, 13.2MB/s]\n"
          ]
        },
        {
          "output_type": "stream",
          "name": "stdout",
          "text": [
            "Extracting ./data/FashionMNIST/raw/train-images-idx3-ubyte.gz to ./data/FashionMNIST/raw\n",
            "\n",
            "Downloading http://fashion-mnist.s3-website.eu-central-1.amazonaws.com/train-labels-idx1-ubyte.gz\n",
            "Downloading http://fashion-mnist.s3-website.eu-central-1.amazonaws.com/train-labels-idx1-ubyte.gz to ./data/FashionMNIST/raw/train-labels-idx1-ubyte.gz\n"
          ]
        },
        {
          "output_type": "stream",
          "name": "stderr",
          "text": [
            "100%|██████████| 29.5k/29.5k [00:00<00:00, 209kB/s]\n"
          ]
        },
        {
          "output_type": "stream",
          "name": "stdout",
          "text": [
            "Extracting ./data/FashionMNIST/raw/train-labels-idx1-ubyte.gz to ./data/FashionMNIST/raw\n",
            "\n",
            "Downloading http://fashion-mnist.s3-website.eu-central-1.amazonaws.com/t10k-images-idx3-ubyte.gz\n",
            "Downloading http://fashion-mnist.s3-website.eu-central-1.amazonaws.com/t10k-images-idx3-ubyte.gz to ./data/FashionMNIST/raw/t10k-images-idx3-ubyte.gz\n"
          ]
        },
        {
          "output_type": "stream",
          "name": "stderr",
          "text": [
            "100%|██████████| 4.42M/4.42M [00:01<00:00, 3.89MB/s]\n"
          ]
        },
        {
          "output_type": "stream",
          "name": "stdout",
          "text": [
            "Extracting ./data/FashionMNIST/raw/t10k-images-idx3-ubyte.gz to ./data/FashionMNIST/raw\n",
            "\n",
            "Downloading http://fashion-mnist.s3-website.eu-central-1.amazonaws.com/t10k-labels-idx1-ubyte.gz\n",
            "Downloading http://fashion-mnist.s3-website.eu-central-1.amazonaws.com/t10k-labels-idx1-ubyte.gz to ./data/FashionMNIST/raw/t10k-labels-idx1-ubyte.gz\n"
          ]
        },
        {
          "output_type": "stream",
          "name": "stderr",
          "text": [
            "100%|██████████| 5.15k/5.15k [00:00<00:00, 5.94MB/s]"
          ]
        },
        {
          "output_type": "stream",
          "name": "stdout",
          "text": [
            "Extracting ./data/FashionMNIST/raw/t10k-labels-idx1-ubyte.gz to ./data/FashionMNIST/raw\n",
            "\n",
            "Train size: 54000\n",
            "Validation size: 6000\n",
            "Test size: 10000\n"
          ]
        },
        {
          "output_type": "stream",
          "name": "stderr",
          "text": [
            "\n"
          ]
        }
      ]
    },
    {
      "cell_type": "markdown",
      "source": [
        "## 2. Build MLP network"
      ],
      "metadata": {
        "id": "u4pnskdqscSV"
      }
    },
    {
      "cell_type": "code",
      "source": [
        "class MLP(nn.Module):\n",
        "  def __init__(self, input_dims, hidden_dims, output_dims):\n",
        "    super(MLP, self).__init__()\n",
        "    self.layer1 = nn.Linear(input_dims, hidden_dims)\n",
        "    self.layer2 = nn.Linear(hidden_dims, hidden_dims)\n",
        "    self.layer3 = nn.Linear(hidden_dims, hidden_dims)\n",
        "    self.layer4 = nn.Linear(hidden_dims, hidden_dims)\n",
        "    self.layer5 = nn.Linear(hidden_dims, hidden_dims)\n",
        "    self.layer6 = nn.Linear(hidden_dims, hidden_dims)\n",
        "    self.layer7 = nn.Linear(hidden_dims, hidden_dims)\n",
        "    self.output = nn.Linear(hidden_dims, output_dims)\n",
        "\n",
        "    for module in self.modules():\n",
        "      if isinstance(module,nn.Linear):\n",
        "        nn.init.normal_(module.weight,mean=0.0,std=1.0)\n",
        "        nn.init.constant_(module.bias,0.0)\n",
        "\n",
        "  def forward(self, x):\n",
        "    x = nn.Flatten()(x)\n",
        "    x = self.layer1(x)\n",
        "    x = nn.Sigmoid()(x)\n",
        "    x = self.layer2(x)\n",
        "    x = nn.Sigmoid()(x)\n",
        "    x = self.layer3(x)\n",
        "    x = nn.Sigmoid()(x)\n",
        "    x = self.layer4(x)\n",
        "    x = nn.Sigmoid()(x)\n",
        "    x = self.layer5(x)\n",
        "    x = nn.Sigmoid()(x)\n",
        "    x = self.layer6(x)\n",
        "    x = nn.Sigmoid()(x)\n",
        "    x = self.layer7(x)\n",
        "    x = nn.Sigmoid()(x)\n",
        "    out = self.output(x)\n",
        "\n",
        "    return out"
      ],
      "metadata": {
        "id": "pzKf_4NLsknK"
      },
      "execution_count": 4,
      "outputs": []
    },
    {
      "cell_type": "code",
      "source": [
        "input_dims = 784\n",
        "hidden_dims = 128\n",
        "output_dims = 10\n",
        "lr = 1e-2\n",
        "\n",
        "model = MLP(input_dims=input_dims,\n",
        "            hidden_dims=hidden_dims,\n",
        "            output_dims=output_dims).to(device)\n",
        "\n",
        "criterion = nn.CrossEntropyLoss()\n",
        "optimizer = optim.SGD(model.parameters(), lr=lr)"
      ],
      "metadata": {
        "id": "F0G5HSBQuMIg"
      },
      "execution_count": 5,
      "outputs": []
    },
    {
      "cell_type": "markdown",
      "source": [
        "## 3.Training"
      ],
      "metadata": {
        "id": "Ux2D9_R9wI3E"
      }
    },
    {
      "cell_type": "code",
      "source": [
        "epochs = 100\n",
        "train_loss_lst = []\n",
        "train_acc_lst = []\n",
        "val_loss_lst = []\n",
        "val_acc_lst = []\n",
        "\n",
        "for epoch in range(epochs):\n",
        "    train_loss = 0.0\n",
        "    train_acc = 0.0\n",
        "    count = 0\n",
        "\n",
        "    model.train()\n",
        "    for X_train, y_train in train_loader:\n",
        "        X_train, y_train = X_train.to(device), y_train.to(device)\n",
        "        optimizer.zero_grad()\n",
        "        outputs = model(X_train)\n",
        "        loss = criterion(outputs, y_train)\n",
        "        loss.backward()\n",
        "        optimizer.step()\n",
        "        train_loss += loss.item()\n",
        "        train_acc += (torch.argmax(outputs, 1) == y_train).sum().item()\n",
        "        count += len(y_train)\n",
        "\n",
        "    train_loss /= len(train_loader)\n",
        "    train_loss_lst.append(train_loss)\n",
        "    train_acc /= count\n",
        "    train_acc_lst.append(train_acc)\n",
        "\n",
        "    val_loss = 0.0\n",
        "    val_acc = 0.0\n",
        "    count = 0\n",
        "    model.eval()\n",
        "    with torch.no_grad():\n",
        "        for X_val, y_val in val_loader:\n",
        "            X_val, y_val = X_val.to(device), y_val.to(device)\n",
        "            outputs = model(X_val)\n",
        "            loss = criterion(outputs, y_val)\n",
        "            val_loss += loss.item()\n",
        "            val_acc += (torch.argmax(outputs, 1) == y_val).sum().item()\n",
        "            count += len(y_val)\n",
        "\n",
        "    val_loss /= len(test_loader)\n",
        "    val_loss_lst.append(val_loss)\n",
        "    val_acc /= count\n",
        "    val_acc_lst.append(val_acc)\n",
        "\n",
        "    print(f\"EPOCH {epoch+1}/{epochs}, Train_Loss: {train_loss:.4f}, Train_Acc: {train_acc:.4f}, Validation Loss: {val_loss:.4f}, Val_Acc: {val_acc:.4f}\")"
      ],
      "metadata": {
        "colab": {
          "base_uri": "https://localhost:8080/"
        },
        "id": "m7iaET09wLX7",
        "outputId": "a600203b-8a5f-4a3a-e9f0-a643b3d8bd4b"
      },
      "execution_count": 7,
      "outputs": [
        {
          "output_type": "stream",
          "name": "stdout",
          "text": [
            "EPOCH 1/100, Train_Loss: 2.9271, Train_Acc: 0.2352, Validation Loss: 1.2564, Val_Acc: 0.3132\n",
            "EPOCH 2/100, Train_Loss: 1.8727, Train_Acc: 0.3722, Validation Loss: 1.0577, Val_Acc: 0.4085\n",
            "EPOCH 3/100, Train_Loss: 1.6312, Train_Acc: 0.4453, Validation Loss: 0.9513, Val_Acc: 0.4597\n",
            "EPOCH 4/100, Train_Loss: 1.4919, Train_Acc: 0.4840, Validation Loss: 0.8855, Val_Acc: 0.4897\n",
            "EPOCH 5/100, Train_Loss: 1.3992, Train_Acc: 0.5091, Validation Loss: 0.8400, Val_Acc: 0.5108\n",
            "EPOCH 6/100, Train_Loss: 1.3329, Train_Acc: 0.5309, Validation Loss: 0.8041, Val_Acc: 0.5300\n",
            "EPOCH 7/100, Train_Loss: 1.2795, Train_Acc: 0.5479, Validation Loss: 0.7771, Val_Acc: 0.5420\n",
            "EPOCH 8/100, Train_Loss: 1.2372, Train_Acc: 0.5606, Validation Loss: 0.7543, Val_Acc: 0.5518\n",
            "EPOCH 9/100, Train_Loss: 1.2000, Train_Acc: 0.5735, Validation Loss: 0.7341, Val_Acc: 0.5638\n",
            "EPOCH 10/100, Train_Loss: 1.1690, Train_Acc: 0.5839, Validation Loss: 0.7171, Val_Acc: 0.5705\n",
            "EPOCH 11/100, Train_Loss: 1.1401, Train_Acc: 0.5939, Validation Loss: 0.7008, Val_Acc: 0.5852\n",
            "EPOCH 12/100, Train_Loss: 1.1161, Train_Acc: 0.6024, Validation Loss: 0.6866, Val_Acc: 0.5930\n",
            "EPOCH 13/100, Train_Loss: 1.0937, Train_Acc: 0.6085, Validation Loss: 0.6737, Val_Acc: 0.5998\n",
            "EPOCH 14/100, Train_Loss: 1.0731, Train_Acc: 0.6159, Validation Loss: 0.6619, Val_Acc: 0.6077\n",
            "EPOCH 15/100, Train_Loss: 1.0541, Train_Acc: 0.6222, Validation Loss: 0.6511, Val_Acc: 0.6133\n",
            "EPOCH 16/100, Train_Loss: 1.0375, Train_Acc: 0.6277, Validation Loss: 0.6412, Val_Acc: 0.6177\n",
            "EPOCH 17/100, Train_Loss: 1.0224, Train_Acc: 0.6327, Validation Loss: 0.6313, Val_Acc: 0.6252\n",
            "EPOCH 18/100, Train_Loss: 1.0074, Train_Acc: 0.6390, Validation Loss: 0.6225, Val_Acc: 0.6292\n",
            "EPOCH 19/100, Train_Loss: 0.9934, Train_Acc: 0.6436, Validation Loss: 0.6148, Val_Acc: 0.6340\n",
            "EPOCH 20/100, Train_Loss: 0.9804, Train_Acc: 0.6481, Validation Loss: 0.6071, Val_Acc: 0.6390\n",
            "EPOCH 21/100, Train_Loss: 0.9693, Train_Acc: 0.6519, Validation Loss: 0.6003, Val_Acc: 0.6437\n",
            "EPOCH 22/100, Train_Loss: 0.9578, Train_Acc: 0.6564, Validation Loss: 0.5933, Val_Acc: 0.6467\n",
            "EPOCH 23/100, Train_Loss: 0.9477, Train_Acc: 0.6595, Validation Loss: 0.5872, Val_Acc: 0.6500\n",
            "EPOCH 24/100, Train_Loss: 0.9375, Train_Acc: 0.6632, Validation Loss: 0.5816, Val_Acc: 0.6515\n",
            "EPOCH 25/100, Train_Loss: 0.9280, Train_Acc: 0.6652, Validation Loss: 0.5759, Val_Acc: 0.6563\n",
            "EPOCH 26/100, Train_Loss: 0.9189, Train_Acc: 0.6685, Validation Loss: 0.5712, Val_Acc: 0.6582\n",
            "EPOCH 27/100, Train_Loss: 0.9115, Train_Acc: 0.6715, Validation Loss: 0.5665, Val_Acc: 0.6578\n",
            "EPOCH 28/100, Train_Loss: 0.9033, Train_Acc: 0.6750, Validation Loss: 0.5617, Val_Acc: 0.6608\n",
            "EPOCH 29/100, Train_Loss: 0.8960, Train_Acc: 0.6774, Validation Loss: 0.5576, Val_Acc: 0.6628\n",
            "EPOCH 30/100, Train_Loss: 0.8886, Train_Acc: 0.6794, Validation Loss: 0.5536, Val_Acc: 0.6645\n",
            "EPOCH 31/100, Train_Loss: 0.8820, Train_Acc: 0.6810, Validation Loss: 0.5494, Val_Acc: 0.6667\n",
            "EPOCH 32/100, Train_Loss: 0.8751, Train_Acc: 0.6835, Validation Loss: 0.5462, Val_Acc: 0.6713\n",
            "EPOCH 33/100, Train_Loss: 0.8689, Train_Acc: 0.6857, Validation Loss: 0.5424, Val_Acc: 0.6723\n",
            "EPOCH 34/100, Train_Loss: 0.8638, Train_Acc: 0.6870, Validation Loss: 0.5386, Val_Acc: 0.6765\n",
            "EPOCH 35/100, Train_Loss: 0.8575, Train_Acc: 0.6896, Validation Loss: 0.5358, Val_Acc: 0.6798\n",
            "EPOCH 36/100, Train_Loss: 0.8529, Train_Acc: 0.6912, Validation Loss: 0.5325, Val_Acc: 0.6823\n",
            "EPOCH 37/100, Train_Loss: 0.8467, Train_Acc: 0.6934, Validation Loss: 0.5299, Val_Acc: 0.6803\n",
            "EPOCH 38/100, Train_Loss: 0.8414, Train_Acc: 0.6948, Validation Loss: 0.5271, Val_Acc: 0.6825\n",
            "EPOCH 39/100, Train_Loss: 0.8371, Train_Acc: 0.6964, Validation Loss: 0.5239, Val_Acc: 0.6857\n",
            "EPOCH 40/100, Train_Loss: 0.8326, Train_Acc: 0.6974, Validation Loss: 0.5212, Val_Acc: 0.6898\n",
            "EPOCH 41/100, Train_Loss: 0.8277, Train_Acc: 0.6994, Validation Loss: 0.5193, Val_Acc: 0.6893\n",
            "EPOCH 42/100, Train_Loss: 0.8233, Train_Acc: 0.7012, Validation Loss: 0.5165, Val_Acc: 0.6907\n",
            "EPOCH 43/100, Train_Loss: 0.8192, Train_Acc: 0.7030, Validation Loss: 0.5146, Val_Acc: 0.6895\n",
            "EPOCH 44/100, Train_Loss: 0.8150, Train_Acc: 0.7042, Validation Loss: 0.5123, Val_Acc: 0.6902\n",
            "EPOCH 45/100, Train_Loss: 0.8110, Train_Acc: 0.7048, Validation Loss: 0.5101, Val_Acc: 0.6945\n",
            "EPOCH 46/100, Train_Loss: 0.8072, Train_Acc: 0.7068, Validation Loss: 0.5077, Val_Acc: 0.6962\n",
            "EPOCH 47/100, Train_Loss: 0.8037, Train_Acc: 0.7079, Validation Loss: 0.5056, Val_Acc: 0.6967\n",
            "EPOCH 48/100, Train_Loss: 0.8005, Train_Acc: 0.7098, Validation Loss: 0.5040, Val_Acc: 0.6968\n",
            "EPOCH 49/100, Train_Loss: 0.7965, Train_Acc: 0.7107, Validation Loss: 0.5020, Val_Acc: 0.6997\n",
            "EPOCH 50/100, Train_Loss: 0.7931, Train_Acc: 0.7115, Validation Loss: 0.5003, Val_Acc: 0.7007\n",
            "EPOCH 51/100, Train_Loss: 0.7901, Train_Acc: 0.7136, Validation Loss: 0.4984, Val_Acc: 0.7008\n",
            "EPOCH 52/100, Train_Loss: 0.7861, Train_Acc: 0.7142, Validation Loss: 0.4971, Val_Acc: 0.7007\n",
            "EPOCH 53/100, Train_Loss: 0.7828, Train_Acc: 0.7156, Validation Loss: 0.4950, Val_Acc: 0.7030\n",
            "EPOCH 54/100, Train_Loss: 0.7801, Train_Acc: 0.7164, Validation Loss: 0.4930, Val_Acc: 0.7040\n",
            "EPOCH 55/100, Train_Loss: 0.7770, Train_Acc: 0.7178, Validation Loss: 0.4918, Val_Acc: 0.7048\n",
            "EPOCH 56/100, Train_Loss: 0.7741, Train_Acc: 0.7192, Validation Loss: 0.4900, Val_Acc: 0.7058\n",
            "EPOCH 57/100, Train_Loss: 0.7709, Train_Acc: 0.7200, Validation Loss: 0.4883, Val_Acc: 0.7085\n",
            "EPOCH 58/100, Train_Loss: 0.7678, Train_Acc: 0.7212, Validation Loss: 0.4867, Val_Acc: 0.7087\n",
            "EPOCH 59/100, Train_Loss: 0.7658, Train_Acc: 0.7218, Validation Loss: 0.4854, Val_Acc: 0.7092\n",
            "EPOCH 60/100, Train_Loss: 0.7627, Train_Acc: 0.7231, Validation Loss: 0.4841, Val_Acc: 0.7102\n",
            "EPOCH 61/100, Train_Loss: 0.7601, Train_Acc: 0.7245, Validation Loss: 0.4821, Val_Acc: 0.7112\n",
            "EPOCH 62/100, Train_Loss: 0.7580, Train_Acc: 0.7254, Validation Loss: 0.4814, Val_Acc: 0.7123\n",
            "EPOCH 63/100, Train_Loss: 0.7553, Train_Acc: 0.7263, Validation Loss: 0.4797, Val_Acc: 0.7133\n",
            "EPOCH 64/100, Train_Loss: 0.7527, Train_Acc: 0.7277, Validation Loss: 0.4784, Val_Acc: 0.7145\n",
            "EPOCH 65/100, Train_Loss: 0.7498, Train_Acc: 0.7279, Validation Loss: 0.4773, Val_Acc: 0.7140\n",
            "EPOCH 66/100, Train_Loss: 0.7476, Train_Acc: 0.7290, Validation Loss: 0.4757, Val_Acc: 0.7160\n",
            "EPOCH 67/100, Train_Loss: 0.7455, Train_Acc: 0.7301, Validation Loss: 0.4749, Val_Acc: 0.7163\n",
            "EPOCH 68/100, Train_Loss: 0.7435, Train_Acc: 0.7308, Validation Loss: 0.4732, Val_Acc: 0.7167\n",
            "EPOCH 69/100, Train_Loss: 0.7408, Train_Acc: 0.7319, Validation Loss: 0.4721, Val_Acc: 0.7188\n",
            "EPOCH 70/100, Train_Loss: 0.7391, Train_Acc: 0.7321, Validation Loss: 0.4707, Val_Acc: 0.7180\n",
            "EPOCH 71/100, Train_Loss: 0.7369, Train_Acc: 0.7333, Validation Loss: 0.4705, Val_Acc: 0.7202\n",
            "EPOCH 72/100, Train_Loss: 0.7343, Train_Acc: 0.7335, Validation Loss: 0.4682, Val_Acc: 0.7192\n",
            "EPOCH 73/100, Train_Loss: 0.7327, Train_Acc: 0.7347, Validation Loss: 0.4672, Val_Acc: 0.7213\n",
            "EPOCH 74/100, Train_Loss: 0.7305, Train_Acc: 0.7346, Validation Loss: 0.4661, Val_Acc: 0.7218\n",
            "EPOCH 75/100, Train_Loss: 0.7279, Train_Acc: 0.7359, Validation Loss: 0.4651, Val_Acc: 0.7227\n",
            "EPOCH 76/100, Train_Loss: 0.7262, Train_Acc: 0.7364, Validation Loss: 0.4640, Val_Acc: 0.7228\n",
            "EPOCH 77/100, Train_Loss: 0.7241, Train_Acc: 0.7375, Validation Loss: 0.4627, Val_Acc: 0.7243\n",
            "EPOCH 78/100, Train_Loss: 0.7228, Train_Acc: 0.7378, Validation Loss: 0.4621, Val_Acc: 0.7238\n",
            "EPOCH 79/100, Train_Loss: 0.7202, Train_Acc: 0.7389, Validation Loss: 0.4610, Val_Acc: 0.7252\n",
            "EPOCH 80/100, Train_Loss: 0.7182, Train_Acc: 0.7394, Validation Loss: 0.4599, Val_Acc: 0.7253\n",
            "EPOCH 81/100, Train_Loss: 0.7164, Train_Acc: 0.7405, Validation Loss: 0.4586, Val_Acc: 0.7257\n",
            "EPOCH 82/100, Train_Loss: 0.7149, Train_Acc: 0.7405, Validation Loss: 0.4580, Val_Acc: 0.7273\n",
            "EPOCH 83/100, Train_Loss: 0.7134, Train_Acc: 0.7416, Validation Loss: 0.4570, Val_Acc: 0.7283\n",
            "EPOCH 84/100, Train_Loss: 0.7118, Train_Acc: 0.7423, Validation Loss: 0.4560, Val_Acc: 0.7300\n",
            "EPOCH 85/100, Train_Loss: 0.7096, Train_Acc: 0.7428, Validation Loss: 0.4556, Val_Acc: 0.7288\n",
            "EPOCH 86/100, Train_Loss: 0.7083, Train_Acc: 0.7430, Validation Loss: 0.4543, Val_Acc: 0.7300\n",
            "EPOCH 87/100, Train_Loss: 0.7062, Train_Acc: 0.7445, Validation Loss: 0.4536, Val_Acc: 0.7297\n",
            "EPOCH 88/100, Train_Loss: 0.7046, Train_Acc: 0.7446, Validation Loss: 0.4525, Val_Acc: 0.7300\n",
            "EPOCH 89/100, Train_Loss: 0.7033, Train_Acc: 0.7455, Validation Loss: 0.4515, Val_Acc: 0.7315\n",
            "EPOCH 90/100, Train_Loss: 0.7018, Train_Acc: 0.7456, Validation Loss: 0.4507, Val_Acc: 0.7322\n",
            "EPOCH 91/100, Train_Loss: 0.7001, Train_Acc: 0.7461, Validation Loss: 0.4498, Val_Acc: 0.7330\n",
            "EPOCH 92/100, Train_Loss: 0.6977, Train_Acc: 0.7471, Validation Loss: 0.4491, Val_Acc: 0.7308\n",
            "EPOCH 93/100, Train_Loss: 0.6971, Train_Acc: 0.7477, Validation Loss: 0.4484, Val_Acc: 0.7335\n",
            "EPOCH 94/100, Train_Loss: 0.6948, Train_Acc: 0.7481, Validation Loss: 0.4471, Val_Acc: 0.7343\n",
            "EPOCH 95/100, Train_Loss: 0.6934, Train_Acc: 0.7487, Validation Loss: 0.4466, Val_Acc: 0.7347\n",
            "EPOCH 96/100, Train_Loss: 0.6918, Train_Acc: 0.7490, Validation Loss: 0.4468, Val_Acc: 0.7357\n",
            "EPOCH 97/100, Train_Loss: 0.6913, Train_Acc: 0.7497, Validation Loss: 0.4451, Val_Acc: 0.7350\n",
            "EPOCH 98/100, Train_Loss: 0.6896, Train_Acc: 0.7500, Validation Loss: 0.4444, Val_Acc: 0.7370\n",
            "EPOCH 99/100, Train_Loss: 0.6874, Train_Acc: 0.7502, Validation Loss: 0.4439, Val_Acc: 0.7355\n",
            "EPOCH 100/100, Train_Loss: 0.6866, Train_Acc: 0.7512, Validation Loss: 0.4428, Val_Acc: 0.7377\n"
          ]
        }
      ]
    },
    {
      "cell_type": "code",
      "source": [
        "fig, ax = plt.subplots(2, 2, figsize=(12, 10))\n",
        "ax[0, 0].plot(train_loss_lst, color='green')\n",
        "ax[0, 0].set(xlabel='Epoch', ylabel='Loss')\n",
        "ax[0, 0].set_title('Training Loss')\n",
        "\n",
        "ax[0, 1].plot(val_loss_lst, color='orange')\n",
        "ax[0, 1].set(xlabel='Epoch', ylabel='Loss')\n",
        "ax[0, 1].set_title('Validation Loss')\n",
        "\n",
        "ax[1, 0].plot(train_acc_lst, color='green')\n",
        "ax[1, 0].set(xlabel='Epoch', ylabel='Accuracy')\n",
        "ax[1, 0].set_title('Training Accuracy')\n",
        "\n",
        "ax[1, 1].plot(val_acc_lst, color='orange')\n",
        "ax[1, 1].set(xlabel='Epoch', ylabel='Accuracy')\n",
        "ax[1, 1].set_title('Validation Accuracy')\n",
        "\n",
        "plt.show()"
      ],
      "metadata": {
        "colab": {
          "base_uri": "https://localhost:8080/",
          "height": 872
        },
        "id": "_nztN3_u1Sa2",
        "outputId": "44eb6300-f8e7-4272-9616-7ce8f0f81dbc"
      },
      "execution_count": 8,
      "outputs": [
        {
          "output_type": "display_data",
          "data": {
            "text/plain": [
              "<Figure size 1200x1000 with 4 Axes>"
            ],
            "image/png": "[encoded data removed]"
          },
          "metadata": {}
        }
      ]
    },
    {
      "cell_type": "markdown",
      "source": [
        "## 4.Evaluation"
      ],
      "metadata": {
        "id": "x-BccnFd2Gs2"
      }
    },
    {
      "cell_type": "code",
      "source": [
        "val_target = []\n",
        "val_predict = []\n",
        "\n",
        "model.eval()\n",
        "with torch.no_grad():\n",
        "    for X_val, y_val in val_loader:\n",
        "        X_val = X_val.to(device)\n",
        "        y_val = y_val.to(device)\n",
        "        outputs = model(X_val)\n",
        "\n",
        "        val_predict.append(outputs.cpu())\n",
        "        val_target.append(y_val.cpu())\n",
        "\n",
        "    val_predict = torch.cat(val_predict)\n",
        "    val_target = torch.cat(val_target)\n",
        "    val_acc = (torch.argmax(val_predict, 1) == val_target).sum().item() / len(val_target)\n",
        "\n",
        "    print('Evaluation on val set:')\n",
        "    print(f'Accuracy: {val_acc}')"
      ],
      "metadata": {
        "colab": {
          "base_uri": "https://localhost:8080/"
        },
        "id": "xjAO5R0U2Jf7",
        "outputId": "e5e14cf6-9b8b-4697-9135-a28efb14dfe2"
      },
      "execution_count": 9,
      "outputs": [
        {
          "output_type": "stream",
          "name": "stdout",
          "text": [
            "Evaluation on val set:\n",
            "Accuracy: 0.7376666666666667\n"
          ]
        }
      ]
    },
    {
      "cell_type": "code",
      "source": [
        "test_target = []\n",
        "test_predict = []\n",
        "\n",
        "model.eval()\n",
        "with torch.no_grad():\n",
        "    for X_test, y_test in test_loader:\n",
        "        X_test = X_test.to(device)\n",
        "        y_test = y_test.to(device)\n",
        "        outputs = model(X_test)\n",
        "\n",
        "        test_predict.append(outputs.cpu())\n",
        "        test_target.append(y_test.cpu())\n",
        "\n",
        "    test_predict = torch.cat(test_predict)\n",
        "    test_target = torch.cat(test_target)\n",
        "    test_acc = (torch.argmax(test_predict, 1) == test_target).sum().item() / len(test_target)\n",
        "\n",
        "    print('Evaluation on test set:')\n",
        "    print(f'Accuracy: {test_acc}')"
      ],
      "metadata": {
        "colab": {
          "base_uri": "https://localhost:8080/"
        },
        "id": "eoYtitfo2LRP",
        "outputId": "0a57de9d-09e1-41a2-cd7b-24dfb97e519f"
      },
      "execution_count": 10,
      "outputs": [
        {
          "output_type": "stream",
          "name": "stdout",
          "text": [
            "Evaluation on test set:\n",
            "Accuracy: 0.7349\n"
          ]
        }
      ]
    }
  ]
}